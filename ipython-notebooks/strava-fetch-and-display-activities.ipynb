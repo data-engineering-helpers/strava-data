{
 "cells": [
  {
   "cell_type": "code",
   "execution_count": 1,
   "id": "d86b20ca-89d7-4022-86a2-f9e4f1a33a3f",
   "metadata": {},
   "outputs": [
    {
     "data": {
      "text/markdown": [
       "\n",
       "## References\n",
       "* [GitHub - Data Engineering Helpers - Strava Data (this project)](https://github.com/data-engineering-helpers/databricks-examples)\n"
      ],
      "text/plain": [
       "<IPython.core.display.Markdown object>"
      ]
     },
     "metadata": {},
     "output_type": "display_data"
    }
   ],
   "source": [
    "%%markdown\n",
    "\n",
    "## References\n",
    "* [GitHub - Data Engineering Helpers - Strava Data (this project)](https://github.com/data-engineering-helpers/databricks-examples)\n"
   ]
  },
  {
   "cell_type": "code",
   "execution_count": 1,
   "id": "cbf47693-431d-461c-baa0-2923de705ba9",
   "metadata": {},
   "outputs": [],
   "source": [
    "# Import Libraries\n",
    "from pyspark.sql.types import StructType, StructField, FloatType, BooleanType\n",
    "from pyspark.sql.types import DoubleType, IntegerType, StringType\n",
    "from pyspark.sql import SparkSession\n",
    "\n",
    "# Setup the Configuration\n",
    "#conf = pyspark.SparkConf()\n",
    "\n",
    "# Initialize the Spark session through Spark Connect\n",
    "spark = SparkSession.builder.getOrCreate()"
   ]
  },
  {
   "cell_type": "code",
   "execution_count": 3,
   "id": "604e8380-c888-4f68-af6b-b8338f553d7c",
   "metadata": {},
   "outputs": [
    {
     "data": {
      "text/markdown": [
       "\n",
       "* Authenticate with the Strava API as explained in the\n",
       "  [Setup/Get a Stava API access token section](https://github.com/data-engineering-helpers/strava-data#get-a-stava-api-access-token)\n",
       "* Store the access tokem as an environment variable:\n",
       "```bash\n",
       "$ export STRAVA_ACCESS_TOKEN=\"<the-strava-api-access-token>\"\n",
       "```\n"
      ],
      "text/plain": [
       "<IPython.core.display.Markdown object>"
      ]
     },
     "metadata": {},
     "output_type": "display_data"
    }
   ],
   "source": [
    "%%markdown\n",
    "\n",
    "* Authenticate with the Strava API as explained in the\n",
    "  [Setup/Get a Stava API access token section](https://github.com/data-engineering-helpers/strava-data#get-a-stava-api-access-token)\n",
    "* Store the access tokem as an environment variable:\n",
    "```bash\n",
    "$ export STRAVA_ACCESS_TOKEN=\"<the-strava-api-access-token>\"\n",
    "```\n"
   ]
  },
  {
   "cell_type": "code",
   "execution_count": 4,
   "id": "7676f002-5ee9-4118-92e4-40c6213a0a4d",
   "metadata": {},
   "outputs": [],
   "source": [
    "# Change with your own access toekn\n",
    "strava_access_token: str = \"3f16863b043ced94ebf6196569ee4d4de8009f6c\""
   ]
  },
  {
   "cell_type": "code",
   "execution_count": 6,
   "id": "ec91cd25-a756-41e1-8904-25dee7d9444f",
   "metadata": {
    "editable": true,
    "slideshow": {
     "slide_type": ""
    },
    "tags": []
   },
   "outputs": [],
   "source": [
    "import requests\n",
    "import os\n",
    "import sys\n",
    "import csv\n",
    "\n",
    "headers = {'Authorization': \"Bearer {0}\".format(strava_access_token)}\n",
    "\n",
    "with open(\"../data/private/strava-activity-polylines.csv\", \"w\") as runs_file:\n",
    "    writer = csv.writer(runs_file, delimiter=\",\")\n",
    "    writer.writerow([\"id\", \"polyline\"])\n",
    "\n",
    "    page = 1\n",
    "    while True:\n",
    "        r = requests.get(\"https://www.strava.com/api/v3/athlete/activities?page={0}\".format(page), headers = headers)\n",
    "        response = r.json()\n",
    "\n",
    "        if len(response) == 0:\n",
    "            break\n",
    "        else:\n",
    "            for activity in response:\n",
    "                r = requests.get(\"https://www.strava.com/api/v3/activities/{0}?include_all_efforts=true\".format(activity[\"id\"]), headers = headers)\n",
    "                polyline = r.json()[\"map\"][\"polyline\"]\n",
    "                writer.writerow([activity[\"id\"], polyline])\n",
    "            page += 1\n"
   ]
  },
  {
   "cell_type": "code",
   "execution_count": null,
   "id": "57d793e8-0697-4c61-a224-70882d0b9c59",
   "metadata": {},
   "outputs": [],
   "source": []
  }
 ],
 "metadata": {
  "kernelspec": {
   "display_name": "Python 3 (ipykernel)",
   "language": "python",
   "name": "python3"
  },
  "language_info": {
   "codemirror_mode": {
    "name": "ipython",
    "version": 3
   },
   "file_extension": ".py",
   "mimetype": "text/x-python",
   "name": "python",
   "nbconvert_exporter": "python",
   "pygments_lexer": "ipython3",
   "version": "3.10.12"
  }
 },
 "nbformat": 4,
 "nbformat_minor": 5
}
