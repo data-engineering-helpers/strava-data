{
 "cells": [
  {
   "cell_type": "markdown",
   "id": "4c79fe60-4c20-4056-9611-b8f505800d0f",
   "metadata": {},
   "source": [
    "Strava authentication\n",
    "=====================\n"
   ]
  },
  {
   "cell_type": "markdown",
   "id": "351eb399-8c14-4891-932e-9c1e9dd3f0a8",
   "metadata": {},
   "source": [
    "# References\n",
    "* [GitHub - Strava Data (this project)](https://github.com/data-engineering-helpers/strava-data)\n",
    "  + [GitHub - Strava Data - `strava-authenticate` notebook (this notebook)](https://github.com/data-engineering-helpers/strava-data/blob/main/ipython-notebooks/strava-authenticate.ipynb)\n",
    "  + [GitHub - Strava Data - `strava-fetch-and-display-activities` notebook](https://github.com/data-engineering-helpers/strava-data/blob/main/ipython-notebooks/strava-fetch-and-display-activities.ipynb)\n",
    "  + [GitHub - Doc - Setup/Generate an access token section](https://github.com/data-engineering-helpers/strava-data#generate-an-access-token)\n"
   ]
  },
  {
   "cell_type": "markdown",
   "id": "2589bf5a-9f25-4c8e-a48c-119c38924dd1",
   "metadata": {},
   "source": [
    "# Authorize the application to use Strava API\n",
    "* The authorization process has to be done just once every so often\n",
    "* The user (you, me) has to authorize the application (this application we are building here)\n",
    "  to use the Strava API. The application is known to Strava API and appears on\n",
    "  https://www.strava.com/settings/apps. If this is not the case yet, one can easily\n",
    "  register a new application to use the Strava API (on https://www.strava.com/settings/api)\n",
    "* Be sure to have the following Strava API details at hand,\n",
    "  from https://www.strava.com/settings/api:\n",
    "  + Client ID\n",
    "  + Client secret\n",
    "* Save those details as environment variables (_e.g._, in the `~/.bashrc`/`~/.zshrc` file):\n",
    "```bash\n",
    "export STRAVA_CLIENT_ID=\"<the-strava-client-id>\"\n",
    "export STRAVA_CLIENT_SECRET=\"<the-strava-client-secret>\"\n",
    "export STRAVA_ACCESS_TOKEN=\"\" # empty for now\n",
    "export STRAVA_REFRESH_TOKEN=\"\" # empty for now\n",
    "```"
   ]
  },
  {
   "cell_type": "markdown",
   "id": "b8b49d19-7e65-4efa-ba97-40fe07a904bb",
   "metadata": {},
   "source": [
    "## Generate an authorization code with the internet browser\n",
    "* Get a Strava API authorization code by opening the following link (be careful\n",
    "  to replace `strava-api-client-id` with your own Strava API client ID,\n",
    "  which should read something like 1234567):\n",
    "  + Open http://www.strava.com/oauth/authorize?client_id=strava-api-client-id&response_type=code&redirect_uri=http://localhost/exchange_token&approval_prompt=force&scope=read_all,activity:read_all\n",
    "  + Click on the Authorize button\n",
    "  + In the URL of the just opened page (displaying an error), copy the `code`\n",
    "    value, it corresponds to the Strava API authorization code\n",
    "* The Strava API authorization code remains valid for a long time (several days).\n",
    "  You can save it along with other passwords (_e.g._, in a password manager) or in a private\n",
    "  MS Word/Google Doc/text document.\n",
    "* The authorization code is then used to generate both:\n",
    "  + A refresh token, which has roughly the same validity as the authorization code\n",
    "  + An access token, which itself is valid only for a limited period of time (typically, a few hours).\n",
    "    That access token may be re-generated as many times as needed thanks to the refresh token.\n",
    "    The access token is what the Strava API needs to answer to API requests"
   ]
  },
  {
   "cell_type": "markdown",
   "id": "1188cf2a-2b1d-47dd-a267-343167b3d9d9",
   "metadata": {},
   "source": [
    "# Generate an access token\n",
    "Perform either of the following two tasks"
   ]
  },
  {
   "cell_type": "markdown",
   "id": "70b414b0-6db4-4621-9bda-6af8e52e0c53",
   "metadata": {},
   "source": [
    "## Generate the access and refresh tokens with the CLI\n",
    "* To be performed when the refresh token is deprecated or when there is no refresh token yet\n",
    "* Use cURL on the command-line to create the access code (and the refresh code):\n",
    "```bash\n",
    "curl -s -X POST https://www.strava.com/oauth/token -F client_id=$STRAVA_CLIENT_ID -F client_secret=$STRAVA_CLIENT_SECRET -F code=<strava-api-authorization-code> -F grant_type=authorization_code | jq\n",
    "```"
   ]
  },
  {
   "cell_type": "markdown",
   "id": "380f148e-4540-422f-b601-52e93efd82ac",
   "metadata": {},
   "source": [
    "### Store the access and refresh tokens as environment variables\n",
    "* Store the access and refresh tokens as environment variables:\n",
    "```bash\n",
    "export STRAVA_ACCESS_TOKEN=\"<strava-api-access-token>\"\n",
    "export STRAVA_REFRESH_TOKEN=\"<strava-api-refresh-token>\"\n",
    "```"
   ]
  },
  {
   "cell_type": "markdown",
   "id": "d64213e8-ae82-4371-b13e-f079172bf90d",
   "metadata": {},
   "source": [
    "## Refresh the access and refresh tokens with the CLI\n",
    "* Use cURL on the command-line to create the access code (and the refresh code):\n",
    "```bash\n",
    "curl -s -X POST https://www.strava.com/oauth/token -F client_id=$STRAVA_CLIENT_ID -F client_secret=$STRAVA_CLIENT_SECRET -F refresh_token=<strava-api-refresh-token> -F grant_type=refresh_token | jq\n",
    "```"
   ]
  },
  {
   "cell_type": "markdown",
   "id": "65956057-fa8f-4697-a1b9-1b5b8799830b",
   "metadata": {},
   "source": [
    "### Store the access token as environment variable\n",
    "* Store the access token as an environment variable:\n",
    "```bash\n",
    "export STRAVA_ACCESS_TOKEN=\"<strava-api-access-token>\"\n",
    "```"
   ]
  },
  {
   "cell_type": "code",
   "execution_count": null,
   "id": "c8f272d5-f56a-489b-8eb6-2c93f92d831e",
   "metadata": {},
   "outputs": [],
   "source": []
  },
  {
   "cell_type": "code",
   "execution_count": null,
   "id": "2ac159fd-4a69-4eae-b3c9-af4aa527f400",
   "metadata": {},
   "outputs": [],
   "source": []
  }
 ],
 "metadata": {
  "kernelspec": {
   "display_name": "Python 3 (ipykernel)",
   "language": "python",
   "name": "python3"
  },
  "language_info": {
   "codemirror_mode": {
    "name": "ipython",
    "version": 3
   },
   "file_extension": ".py",
   "mimetype": "text/x-python",
   "name": "python",
   "nbconvert_exporter": "python",
   "pygments_lexer": "ipython3",
   "version": "3.11.4"
  }
 },
 "nbformat": 4,
 "nbformat_minor": 5
}
